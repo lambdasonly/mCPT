{
 "cells": [
  {
   "cell_type": "code",
   "execution_count": 1,
   "id": "349d9eb2-df57-45d8-85aa-e0dc1b5061d1",
   "metadata": {},
   "outputs": [],
   "source": [
    "import torch\n",
    "from torch import nn\n",
    "from torch.utils.data import TensorDataset\n",
    "from transformers import AutoTokenizer, AutoModel\n",
    "import datasets\n",
    "\n",
    "from utils import *\n",
    "from mcpt.contrastlearning import TrainerA"
   ]
  },
  {
   "cell_type": "code",
   "execution_count": 2,
   "id": "1666b48b-d7de-4714-b3dc-4daebb620e3f",
   "metadata": {},
   "outputs": [],
   "source": [
    "#model_name = 'sentence-transformers/all-MiniLM-L6-v2'\n",
    "model_name = 'sentence-transformers/paraphrase-multilingual-MiniLM-L12-v2'\n",
    "N_EPOCHS = 1000\n",
    "HEAD_BATCH_SIZE = 50\n",
    "HEAD_LR = 1e-3\n",
    "HEAD_GAMMA = 1.\n",
    "N_CLASSES = 14"
   ]
  },
  {
   "cell_type": "code",
   "execution_count": 3,
   "id": "ffcfd293-db28-4155-bd1c-d0a91df56b1a",
   "metadata": {},
   "outputs": [
    {
     "name": "stdout",
     "output_type": "stream",
     "text": [
      "Downloading and preparing dataset text/default to /home/alex/.cache/huggingface/datasets/text/default-0c5d9974ec534b1a/0.0.0/acc32f2f2ef863c93c2f30c52f7df6cc9053a1c2230b8d7da0d210404683ca08...\n",
      "Dataset text downloaded and prepared to /home/alex/.cache/huggingface/datasets/text/default-0c5d9974ec534b1a/0.0.0/acc32f2f2ef863c93c2f30c52f7df6cc9053a1c2230b8d7da0d210404683ca08. Subsequent calls will reuse this data.\n",
      "Downloading and preparing dataset text/default to /home/alex/.cache/huggingface/datasets/text/default-c1e41b278bbf7bff/0.0.0/acc32f2f2ef863c93c2f30c52f7df6cc9053a1c2230b8d7da0d210404683ca08...\n",
      "Dataset text downloaded and prepared to /home/alex/.cache/huggingface/datasets/text/default-c1e41b278bbf7bff/0.0.0/acc32f2f2ef863c93c2f30c52f7df6cc9053a1c2230b8d7da0d210404683ca08. Subsequent calls will reuse this data.\n"
     ]
    }
   ],
   "source": [
    "lang = 'fr'\n",
    "train_dataset = get_dataset(f'data/{lang}')\n",
    "test_dataset = get_dataset(f'data/{lang}', prefix='dev')"
   ]
  },
  {
   "cell_type": "code",
   "execution_count": 4,
   "id": "a11bec53-9838-4afb-afda-17278b5cf521",
   "metadata": {},
   "outputs": [
    {
     "data": {
      "text/plain": [
       "Dataset({\n",
       "    features: ['text', 'labels'],\n",
       "    num_rows: 158\n",
       "})"
      ]
     },
     "execution_count": 4,
     "metadata": {},
     "output_type": "execute_result"
    }
   ],
   "source": [
    "train_dataset"
   ]
  },
  {
   "cell_type": "code",
   "execution_count": 5,
   "id": "01739ade-a3b2-43dd-a393-e31756099e6b",
   "metadata": {},
   "outputs": [
    {
     "data": {
      "text/plain": [
       "Dataset({\n",
       "    features: ['text', 'labels'],\n",
       "    num_rows: 53\n",
       "})"
      ]
     },
     "execution_count": 5,
     "metadata": {},
     "output_type": "execute_result"
    }
   ],
   "source": [
    "test_dataset"
   ]
  },
  {
   "cell_type": "code",
   "execution_count": 6,
   "id": "be0d6de5-8c72-4406-aadc-e222637b3636",
   "metadata": {},
   "outputs": [],
   "source": [
    "tokenizer = AutoTokenizer.from_pretrained(model_name)"
   ]
  },
  {
   "cell_type": "code",
   "execution_count": 7,
   "id": "a93a4308-8b69-43ec-81e9-54a7c351402f",
   "metadata": {},
   "outputs": [],
   "source": [
    "train_encodings = tokenizer(train_dataset['text'], padding=True, truncation=True, return_tensors='pt')\n",
    "train_dataset_encoded = datasets.Dataset.from_dict({\n",
    "    'input_ids': train_encodings['input_ids'],\n",
    "    'attention_mask': train_encodings['attention_mask'],\n",
    "    'labels': torch.tensor(train_dataset['labels'], dtype=torch.float32),\n",
    "}).with_format('torch')"
   ]
  },
  {
   "cell_type": "code",
   "execution_count": 8,
   "id": "e1d1695e-d417-4f10-9a07-9ff764e2a6c2",
   "metadata": {},
   "outputs": [],
   "source": [
    "test_encodings = tokenizer(test_dataset['text'], padding=True, truncation=True, return_tensors='pt')\n",
    "test_dataset_encoded = datasets.Dataset.from_dict({\n",
    "    'input_ids': test_encodings['input_ids'],\n",
    "    'attention_mask': test_encodings['attention_mask'],\n",
    "    'labels': torch.tensor(test_dataset['labels'], dtype=torch.float32),\n",
    "}).with_format('torch')"
   ]
  },
  {
   "cell_type": "markdown",
   "id": "da37c1df-80a1-4f6f-b6fc-0a198e1138ab",
   "metadata": {},
   "source": [
    "# Training"
   ]
  },
  {
   "cell_type": "code",
   "execution_count": 9,
   "id": "c304b98e-5c39-4452-9018-983b9c04d1f9",
   "metadata": {},
   "outputs": [],
   "source": [
    "model = AutoModel.from_pretrained(model_name)\n",
    "head = nn.Sequential(\n",
    "    nn.Linear(384, 256),\n",
    "    nn.Dropout(),\n",
    "    nn.ReLU(),\n",
    "    nn.Linear(256, 256),\n",
    "    nn.Dropout(),\n",
    "    nn.ReLU(),\n",
    "    nn.Linear(256, N_CLASSES),\n",
    "    nn.Dropout(),\n",
    ")\n",
    "trainer = TrainerA(\n",
    "    model=model,\n",
    "    head=head,\n",
    "    device='cpu',\n",
    "    head_loss=nn.BCEWithLogitsLoss(),\n",
    "    model_loss=None,\n",
    "    model_dataset=None,\n",
    "    head_dataset=train_dataset_encoded,\n",
    "    eval_dataset=test_dataset_encoded,        \n",
    "    n_classes=N_CLASSES,\n",
    "    model_loader_type=None,\n",
    "    train_head_batch_size=HEAD_BATCH_SIZE,\n",
    "    head_lr=HEAD_LR,\n",
    "    head_gamma=HEAD_GAMMA,\n",
    "    validate_every_n_epochs=1,\n",
    ")\n",
    "trainer.train_head(N_EPOCHS)"
   ]
  },
  {
   "cell_type": "code",
   "execution_count": 10,
   "id": "400bbe26-77fa-4565-adb0-abc28b3374d6",
   "metadata": {},
   "outputs": [
    {
     "data": {
      "image/png": "[encoded data removed]",
      "text/plain": [
       "<Figure size 432x288 with 2 Axes>"
      ]
     },
     "metadata": {
      "needs_background": "light"
     },
     "output_type": "display_data"
    },
    {
     "name": "stdout",
     "output_type": "stream",
     "text": [
      "MicroF1:  0.5197368264198303  @  183\n",
      "MacroF1:  0.4357164204120636  @  174\n",
      "MacroF1:  0.4345884919166565  @  183\n"
     ]
    }
   ],
   "source": [
    "TrainerA.plot_metrics(trainer.log_dict, 1)"
   ]
  },
  {
   "cell_type": "code",
   "execution_count": null,
   "id": "0e4bdd1c-69bf-4b75-b122-0a61cee81c2e",
   "metadata": {},
   "outputs": [],
   "source": []
  }
 ],
 "metadata": {
  "kernelspec": {
   "display_name": "Python 3",
   "language": "python",
   "name": "python3"
  },
  "language_info": {
   "codemirror_mode": {
    "name": "ipython",
    "version": 3
   },
   "file_extension": ".py",
   "mimetype": "text/x-python",
   "name": "python",
   "nbconvert_exporter": "python",
   "pygments_lexer": "ipython3",
   "version": "3.9.0"
  }
 },
 "nbformat": 4,
 "nbformat_minor": 5
}
